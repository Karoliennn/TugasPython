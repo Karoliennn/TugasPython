{
 "cells": [
  {
   "cell_type": "code",
   "execution_count": 2,
   "id": "d5dd05ec",
   "metadata": {},
   "outputs": [],
   "source": [
    "import pandas as pd\n",
    "\n",
    "#import warnings\n",
    "#warnings.filterwarnings(\"ignore\")\n",
    "\n",
    "#pd.set_option('max_columns',500)"
   ]
  },
  {
   "cell_type": "code",
   "execution_count": 4,
   "id": "2dc85d81",
   "metadata": {},
   "outputs": [],
   "source": [
    "data = pd.read_csv('https://raw.githubusercontent.com/imdwipayana/Python-Project-2023/main/Project/asuransi_mobil.csv')"
   ]
  },
  {
   "cell_type": "code",
   "execution_count": 5,
   "id": "f21814e5",
   "metadata": {},
   "outputs": [
    {
     "data": {
      "text/html": [
       "<div>\n",
       "<style scoped>\n",
       "    .dataframe tbody tr th:only-of-type {\n",
       "        vertical-align: middle;\n",
       "    }\n",
       "\n",
       "    .dataframe tbody tr th {\n",
       "        vertical-align: top;\n",
       "    }\n",
       "\n",
       "    .dataframe thead th {\n",
       "        text-align: right;\n",
       "    }\n",
       "</style>\n",
       "<table border=\"1\" class=\"dataframe\">\n",
       "  <thead>\n",
       "    <tr style=\"text-align: right;\">\n",
       "      <th></th>\n",
       "      <th>IDENTITAS</th>\n",
       "      <th>UMUR</th>\n",
       "      <th>JENIS_KELAMIN</th>\n",
       "      <th>PENGALAMAN_MENGEMUDI</th>\n",
       "      <th>PENDIDIKAN</th>\n",
       "      <th>PENGHASILAN</th>\n",
       "      <th>SKOR_KREDIT</th>\n",
       "      <th>PEMILIK_KENDARAAN</th>\n",
       "      <th>TAHUN_PRODUKSI</th>\n",
       "      <th>STATUS</th>\n",
       "      <th>ANAK</th>\n",
       "      <th>KODE_POS</th>\n",
       "      <th>KM_PER_TAHUN</th>\n",
       "      <th>JENIS_KENDARAAN</th>\n",
       "      <th>TILANG_NGEBUT</th>\n",
       "      <th>TILANG_MABUK</th>\n",
       "      <th>KECELAKAAN_SEBELUMNYA</th>\n",
       "      <th>KLAIM</th>\n",
       "    </tr>\n",
       "  </thead>\n",
       "  <tbody>\n",
       "    <tr>\n",
       "      <th>0</th>\n",
       "      <td>569520</td>\n",
       "      <td>lebih dari 65 tahun</td>\n",
       "      <td>perempuan</td>\n",
       "      <td>kurang dari 10 tahun</td>\n",
       "      <td>SMA</td>\n",
       "      <td>lebih dari 3x UMR</td>\n",
       "      <td>0.629027</td>\n",
       "      <td>ya</td>\n",
       "      <td>setelah 2020</td>\n",
       "      <td>belum menikah</td>\n",
       "      <td>ada</td>\n",
       "      <td>10238</td>\n",
       "      <td>12000.0</td>\n",
       "      <td>keluarga</td>\n",
       "      <td>0</td>\n",
       "      <td>0</td>\n",
       "      <td>0</td>\n",
       "      <td>tidak</td>\n",
       "    </tr>\n",
       "    <tr>\n",
       "      <th>1</th>\n",
       "      <td>750365</td>\n",
       "      <td>kurang dari 25 tahun</td>\n",
       "      <td>laki-laki</td>\n",
       "      <td>kurang dari 10 tahun</td>\n",
       "      <td>tidak ada</td>\n",
       "      <td>kurang dari UMR</td>\n",
       "      <td>0.357757</td>\n",
       "      <td>tidak</td>\n",
       "      <td>sebelum 2020</td>\n",
       "      <td>belum menikah</td>\n",
       "      <td>tidak ada</td>\n",
       "      <td>10238</td>\n",
       "      <td>16000.0</td>\n",
       "      <td>keluarga</td>\n",
       "      <td>0</td>\n",
       "      <td>0</td>\n",
       "      <td>0</td>\n",
       "      <td>ya</td>\n",
       "    </tr>\n",
       "    <tr>\n",
       "      <th>2</th>\n",
       "      <td>199901</td>\n",
       "      <td>kurang dari 25 tahun</td>\n",
       "      <td>perempuan</td>\n",
       "      <td>kurang dari 10 tahun</td>\n",
       "      <td>SMA</td>\n",
       "      <td>antara 1-2x UMR</td>\n",
       "      <td>0.493146</td>\n",
       "      <td>ya</td>\n",
       "      <td>sebelum 2020</td>\n",
       "      <td>belum menikah</td>\n",
       "      <td>tidak ada</td>\n",
       "      <td>10238</td>\n",
       "      <td>11000.0</td>\n",
       "      <td>keluarga</td>\n",
       "      <td>0</td>\n",
       "      <td>0</td>\n",
       "      <td>0</td>\n",
       "      <td>tidak</td>\n",
       "    </tr>\n",
       "    <tr>\n",
       "      <th>3</th>\n",
       "      <td>478866</td>\n",
       "      <td>kurang dari 25 tahun</td>\n",
       "      <td>laki-laki</td>\n",
       "      <td>kurang dari 10 tahun</td>\n",
       "      <td>universitas</td>\n",
       "      <td>antara 1-2x UMR</td>\n",
       "      <td>0.206013</td>\n",
       "      <td>ya</td>\n",
       "      <td>sebelum 2020</td>\n",
       "      <td>belum menikah</td>\n",
       "      <td>ada</td>\n",
       "      <td>32765</td>\n",
       "      <td>11000.0</td>\n",
       "      <td>keluarga</td>\n",
       "      <td>0</td>\n",
       "      <td>0</td>\n",
       "      <td>0</td>\n",
       "      <td>tidak</td>\n",
       "    </tr>\n",
       "    <tr>\n",
       "      <th>4</th>\n",
       "      <td>731664</td>\n",
       "      <td>antara 25-40 tahun</td>\n",
       "      <td>laki-laki</td>\n",
       "      <td>antara 10-20 tahun</td>\n",
       "      <td>tidak ada</td>\n",
       "      <td>antara 1-2x UMR</td>\n",
       "      <td>0.388366</td>\n",
       "      <td>ya</td>\n",
       "      <td>sebelum 2020</td>\n",
       "      <td>belum menikah</td>\n",
       "      <td>tidak ada</td>\n",
       "      <td>32765</td>\n",
       "      <td>12000.0</td>\n",
       "      <td>keluarga</td>\n",
       "      <td>2</td>\n",
       "      <td>0</td>\n",
       "      <td>1</td>\n",
       "      <td>ya</td>\n",
       "    </tr>\n",
       "  </tbody>\n",
       "</table>\n",
       "</div>"
      ],
      "text/plain": [
       "   IDENTITAS                  UMUR JENIS_KELAMIN  PENGALAMAN_MENGEMUDI  \\\n",
       "0     569520   lebih dari 65 tahun     perempuan  kurang dari 10 tahun   \n",
       "1     750365  kurang dari 25 tahun     laki-laki  kurang dari 10 tahun   \n",
       "2     199901  kurang dari 25 tahun     perempuan  kurang dari 10 tahun   \n",
       "3     478866  kurang dari 25 tahun     laki-laki  kurang dari 10 tahun   \n",
       "4     731664    antara 25-40 tahun     laki-laki    antara 10-20 tahun   \n",
       "\n",
       "    PENDIDIKAN        PENGHASILAN  SKOR_KREDIT PEMILIK_KENDARAAN  \\\n",
       "0          SMA  lebih dari 3x UMR     0.629027                ya   \n",
       "1    tidak ada    kurang dari UMR     0.357757             tidak   \n",
       "2          SMA    antara 1-2x UMR     0.493146                ya   \n",
       "3  universitas    antara 1-2x UMR     0.206013                ya   \n",
       "4    tidak ada    antara 1-2x UMR     0.388366                ya   \n",
       "\n",
       "  TAHUN_PRODUKSI         STATUS       ANAK  KODE_POS  KM_PER_TAHUN  \\\n",
       "0   setelah 2020  belum menikah        ada     10238       12000.0   \n",
       "1   sebelum 2020  belum menikah  tidak ada     10238       16000.0   \n",
       "2   sebelum 2020  belum menikah  tidak ada     10238       11000.0   \n",
       "3   sebelum 2020  belum menikah        ada     32765       11000.0   \n",
       "4   sebelum 2020  belum menikah  tidak ada     32765       12000.0   \n",
       "\n",
       "  JENIS_KENDARAAN  TILANG_NGEBUT  TILANG_MABUK  KECELAKAAN_SEBELUMNYA  KLAIM  \n",
       "0        keluarga              0             0                      0  tidak  \n",
       "1        keluarga              0             0                      0     ya  \n",
       "2        keluarga              0             0                      0  tidak  \n",
       "3        keluarga              0             0                      0  tidak  \n",
       "4        keluarga              2             0                      1     ya  "
      ]
     },
     "execution_count": 5,
     "metadata": {},
     "output_type": "execute_result"
    }
   ],
   "source": [
    "data.head()"
   ]
  },
  {
   "cell_type": "code",
   "execution_count": 7,
   "id": "11f53af8",
   "metadata": {},
   "outputs": [
    {
     "data": {
      "text/html": [
       "<div>\n",
       "<style scoped>\n",
       "    .dataframe tbody tr th:only-of-type {\n",
       "        vertical-align: middle;\n",
       "    }\n",
       "\n",
       "    .dataframe tbody tr th {\n",
       "        vertical-align: top;\n",
       "    }\n",
       "\n",
       "    .dataframe thead th {\n",
       "        text-align: right;\n",
       "    }\n",
       "</style>\n",
       "<table border=\"1\" class=\"dataframe\">\n",
       "  <thead>\n",
       "    <tr style=\"text-align: right;\">\n",
       "      <th></th>\n",
       "      <th>IDENTITAS</th>\n",
       "      <th>SKOR_KREDIT</th>\n",
       "      <th>KODE_POS</th>\n",
       "      <th>KM_PER_TAHUN</th>\n",
       "      <th>TILANG_NGEBUT</th>\n",
       "      <th>TILANG_MABUK</th>\n",
       "      <th>KECELAKAAN_SEBELUMNYA</th>\n",
       "    </tr>\n",
       "  </thead>\n",
       "  <tbody>\n",
       "    <tr>\n",
       "      <th>count</th>\n",
       "      <td>10000.000000</td>\n",
       "      <td>9018.000000</td>\n",
       "      <td>10000.000000</td>\n",
       "      <td>9043.000000</td>\n",
       "      <td>10000.000000</td>\n",
       "      <td>10000.00000</td>\n",
       "      <td>10000.000000</td>\n",
       "    </tr>\n",
       "    <tr>\n",
       "      <th>mean</th>\n",
       "      <td>500521.906800</td>\n",
       "      <td>0.515813</td>\n",
       "      <td>19864.548400</td>\n",
       "      <td>11697.003207</td>\n",
       "      <td>1.482900</td>\n",
       "      <td>0.23920</td>\n",
       "      <td>1.056300</td>\n",
       "    </tr>\n",
       "    <tr>\n",
       "      <th>std</th>\n",
       "      <td>290030.768758</td>\n",
       "      <td>0.137688</td>\n",
       "      <td>18915.613855</td>\n",
       "      <td>2818.434528</td>\n",
       "      <td>2.241966</td>\n",
       "      <td>0.55499</td>\n",
       "      <td>1.652454</td>\n",
       "    </tr>\n",
       "    <tr>\n",
       "      <th>min</th>\n",
       "      <td>101.000000</td>\n",
       "      <td>0.053358</td>\n",
       "      <td>10238.000000</td>\n",
       "      <td>2000.000000</td>\n",
       "      <td>0.000000</td>\n",
       "      <td>0.00000</td>\n",
       "      <td>0.000000</td>\n",
       "    </tr>\n",
       "    <tr>\n",
       "      <th>25%</th>\n",
       "      <td>249638.500000</td>\n",
       "      <td>0.417191</td>\n",
       "      <td>10238.000000</td>\n",
       "      <td>10000.000000</td>\n",
       "      <td>0.000000</td>\n",
       "      <td>0.00000</td>\n",
       "      <td>0.000000</td>\n",
       "    </tr>\n",
       "    <tr>\n",
       "      <th>50%</th>\n",
       "      <td>501777.000000</td>\n",
       "      <td>0.525033</td>\n",
       "      <td>10238.000000</td>\n",
       "      <td>12000.000000</td>\n",
       "      <td>0.000000</td>\n",
       "      <td>0.00000</td>\n",
       "      <td>0.000000</td>\n",
       "    </tr>\n",
       "    <tr>\n",
       "      <th>75%</th>\n",
       "      <td>753974.500000</td>\n",
       "      <td>0.618312</td>\n",
       "      <td>32765.000000</td>\n",
       "      <td>14000.000000</td>\n",
       "      <td>2.000000</td>\n",
       "      <td>0.00000</td>\n",
       "      <td>2.000000</td>\n",
       "    </tr>\n",
       "    <tr>\n",
       "      <th>max</th>\n",
       "      <td>999976.000000</td>\n",
       "      <td>0.960819</td>\n",
       "      <td>92101.000000</td>\n",
       "      <td>22000.000000</td>\n",
       "      <td>22.000000</td>\n",
       "      <td>6.00000</td>\n",
       "      <td>15.000000</td>\n",
       "    </tr>\n",
       "  </tbody>\n",
       "</table>\n",
       "</div>"
      ],
      "text/plain": [
       "           IDENTITAS  SKOR_KREDIT      KODE_POS  KM_PER_TAHUN  TILANG_NGEBUT  \\\n",
       "count   10000.000000  9018.000000  10000.000000   9043.000000   10000.000000   \n",
       "mean   500521.906800     0.515813  19864.548400  11697.003207       1.482900   \n",
       "std    290030.768758     0.137688  18915.613855   2818.434528       2.241966   \n",
       "min       101.000000     0.053358  10238.000000   2000.000000       0.000000   \n",
       "25%    249638.500000     0.417191  10238.000000  10000.000000       0.000000   \n",
       "50%    501777.000000     0.525033  10238.000000  12000.000000       0.000000   \n",
       "75%    753974.500000     0.618312  32765.000000  14000.000000       2.000000   \n",
       "max    999976.000000     0.960819  92101.000000  22000.000000      22.000000   \n",
       "\n",
       "       TILANG_MABUK  KECELAKAAN_SEBELUMNYA  \n",
       "count   10000.00000           10000.000000  \n",
       "mean        0.23920               1.056300  \n",
       "std         0.55499               1.652454  \n",
       "min         0.00000               0.000000  \n",
       "25%         0.00000               0.000000  \n",
       "50%         0.00000               0.000000  \n",
       "75%         0.00000               2.000000  \n",
       "max         6.00000              15.000000  "
      ]
     },
     "execution_count": 7,
     "metadata": {},
     "output_type": "execute_result"
    }
   ],
   "source": [
    "data.describe()"
   ]
  },
  {
   "cell_type": "code",
   "execution_count": 8,
   "id": "7adce321",
   "metadata": {},
   "outputs": [
    {
     "data": {
      "text/plain": [
       "IDENTITAS                  int64\n",
       "UMUR                      object\n",
       "JENIS_KELAMIN             object\n",
       "PENGALAMAN_MENGEMUDI      object\n",
       "PENDIDIKAN                object\n",
       "PENGHASILAN               object\n",
       "SKOR_KREDIT              float64\n",
       "PEMILIK_KENDARAAN         object\n",
       "TAHUN_PRODUKSI            object\n",
       "STATUS                    object\n",
       "ANAK                      object\n",
       "KODE_POS                   int64\n",
       "KM_PER_TAHUN             float64\n",
       "JENIS_KENDARAAN           object\n",
       "TILANG_NGEBUT              int64\n",
       "TILANG_MABUK               int64\n",
       "KECELAKAAN_SEBELUMNYA      int64\n",
       "KLAIM                     object\n",
       "dtype: object"
      ]
     },
     "execution_count": 8,
     "metadata": {},
     "output_type": "execute_result"
    }
   ],
   "source": [
    "# Melihat type data apakah berupa integer, bilangan desimal, atau data kategori\n",
    "data.dtypes"
   ]
  },
  {
   "cell_type": "code",
   "execution_count": 9,
   "id": "0379d0b9",
   "metadata": {},
   "outputs": [
    {
     "data": {
      "text/plain": [
       "IDENTITAS                  0\n",
       "UMUR                       0\n",
       "JENIS_KELAMIN              0\n",
       "PENGALAMAN_MENGEMUDI       0\n",
       "PENDIDIKAN                 0\n",
       "PENGHASILAN                0\n",
       "SKOR_KREDIT              982\n",
       "PEMILIK_KENDARAAN          0\n",
       "TAHUN_PRODUKSI             0\n",
       "STATUS                     0\n",
       "ANAK                       0\n",
       "KODE_POS                   0\n",
       "KM_PER_TAHUN             957\n",
       "JENIS_KENDARAAN            0\n",
       "TILANG_NGEBUT              0\n",
       "TILANG_MABUK               0\n",
       "KECELAKAAN_SEBELUMNYA      0\n",
       "KLAIM                      0\n",
       "dtype: int64"
      ]
     },
     "execution_count": 9,
     "metadata": {},
     "output_type": "execute_result"
    }
   ],
   "source": [
    "# mengecek apakah terdapat data yang kosong\n",
    "data.isnull().sum()"
   ]
  },
  {
   "cell_type": "code",
   "execution_count": 10,
   "id": "8e289cdd",
   "metadata": {},
   "outputs": [],
   "source": [
    "data_categorical =['SKOR_KREDIT','KM_PER_TAHUN']"
   ]
  },
  {
   "cell_type": "code",
   "execution_count": 11,
   "id": "680a684c",
   "metadata": {},
   "outputs": [],
   "source": [
    "data_drop = data.drop(data_categorical, axis =1)"
   ]
  },
  {
   "cell_type": "code",
   "execution_count": 12,
   "id": "e478bb07",
   "metadata": {},
   "outputs": [
    {
     "data": {
      "text/html": [
       "<div>\n",
       "<style scoped>\n",
       "    .dataframe tbody tr th:only-of-type {\n",
       "        vertical-align: middle;\n",
       "    }\n",
       "\n",
       "    .dataframe tbody tr th {\n",
       "        vertical-align: top;\n",
       "    }\n",
       "\n",
       "    .dataframe thead th {\n",
       "        text-align: right;\n",
       "    }\n",
       "</style>\n",
       "<table border=\"1\" class=\"dataframe\">\n",
       "  <thead>\n",
       "    <tr style=\"text-align: right;\">\n",
       "      <th></th>\n",
       "      <th>IDENTITAS</th>\n",
       "      <th>UMUR</th>\n",
       "      <th>JENIS_KELAMIN</th>\n",
       "      <th>PENGALAMAN_MENGEMUDI</th>\n",
       "      <th>PENDIDIKAN</th>\n",
       "      <th>PENGHASILAN</th>\n",
       "      <th>PEMILIK_KENDARAAN</th>\n",
       "      <th>TAHUN_PRODUKSI</th>\n",
       "      <th>STATUS</th>\n",
       "      <th>ANAK</th>\n",
       "      <th>KODE_POS</th>\n",
       "      <th>JENIS_KENDARAAN</th>\n",
       "      <th>TILANG_NGEBUT</th>\n",
       "      <th>TILANG_MABUK</th>\n",
       "      <th>KECELAKAAN_SEBELUMNYA</th>\n",
       "      <th>KLAIM</th>\n",
       "    </tr>\n",
       "  </thead>\n",
       "  <tbody>\n",
       "    <tr>\n",
       "      <th>0</th>\n",
       "      <td>569520</td>\n",
       "      <td>lebih dari 65 tahun</td>\n",
       "      <td>perempuan</td>\n",
       "      <td>kurang dari 10 tahun</td>\n",
       "      <td>SMA</td>\n",
       "      <td>lebih dari 3x UMR</td>\n",
       "      <td>ya</td>\n",
       "      <td>setelah 2020</td>\n",
       "      <td>belum menikah</td>\n",
       "      <td>ada</td>\n",
       "      <td>10238</td>\n",
       "      <td>keluarga</td>\n",
       "      <td>0</td>\n",
       "      <td>0</td>\n",
       "      <td>0</td>\n",
       "      <td>tidak</td>\n",
       "    </tr>\n",
       "    <tr>\n",
       "      <th>1</th>\n",
       "      <td>750365</td>\n",
       "      <td>kurang dari 25 tahun</td>\n",
       "      <td>laki-laki</td>\n",
       "      <td>kurang dari 10 tahun</td>\n",
       "      <td>tidak ada</td>\n",
       "      <td>kurang dari UMR</td>\n",
       "      <td>tidak</td>\n",
       "      <td>sebelum 2020</td>\n",
       "      <td>belum menikah</td>\n",
       "      <td>tidak ada</td>\n",
       "      <td>10238</td>\n",
       "      <td>keluarga</td>\n",
       "      <td>0</td>\n",
       "      <td>0</td>\n",
       "      <td>0</td>\n",
       "      <td>ya</td>\n",
       "    </tr>\n",
       "    <tr>\n",
       "      <th>2</th>\n",
       "      <td>199901</td>\n",
       "      <td>kurang dari 25 tahun</td>\n",
       "      <td>perempuan</td>\n",
       "      <td>kurang dari 10 tahun</td>\n",
       "      <td>SMA</td>\n",
       "      <td>antara 1-2x UMR</td>\n",
       "      <td>ya</td>\n",
       "      <td>sebelum 2020</td>\n",
       "      <td>belum menikah</td>\n",
       "      <td>tidak ada</td>\n",
       "      <td>10238</td>\n",
       "      <td>keluarga</td>\n",
       "      <td>0</td>\n",
       "      <td>0</td>\n",
       "      <td>0</td>\n",
       "      <td>tidak</td>\n",
       "    </tr>\n",
       "    <tr>\n",
       "      <th>3</th>\n",
       "      <td>478866</td>\n",
       "      <td>kurang dari 25 tahun</td>\n",
       "      <td>laki-laki</td>\n",
       "      <td>kurang dari 10 tahun</td>\n",
       "      <td>universitas</td>\n",
       "      <td>antara 1-2x UMR</td>\n",
       "      <td>ya</td>\n",
       "      <td>sebelum 2020</td>\n",
       "      <td>belum menikah</td>\n",
       "      <td>ada</td>\n",
       "      <td>32765</td>\n",
       "      <td>keluarga</td>\n",
       "      <td>0</td>\n",
       "      <td>0</td>\n",
       "      <td>0</td>\n",
       "      <td>tidak</td>\n",
       "    </tr>\n",
       "    <tr>\n",
       "      <th>4</th>\n",
       "      <td>731664</td>\n",
       "      <td>antara 25-40 tahun</td>\n",
       "      <td>laki-laki</td>\n",
       "      <td>antara 10-20 tahun</td>\n",
       "      <td>tidak ada</td>\n",
       "      <td>antara 1-2x UMR</td>\n",
       "      <td>ya</td>\n",
       "      <td>sebelum 2020</td>\n",
       "      <td>belum menikah</td>\n",
       "      <td>tidak ada</td>\n",
       "      <td>32765</td>\n",
       "      <td>keluarga</td>\n",
       "      <td>2</td>\n",
       "      <td>0</td>\n",
       "      <td>1</td>\n",
       "      <td>ya</td>\n",
       "    </tr>\n",
       "  </tbody>\n",
       "</table>\n",
       "</div>"
      ],
      "text/plain": [
       "   IDENTITAS                  UMUR JENIS_KELAMIN  PENGALAMAN_MENGEMUDI  \\\n",
       "0     569520   lebih dari 65 tahun     perempuan  kurang dari 10 tahun   \n",
       "1     750365  kurang dari 25 tahun     laki-laki  kurang dari 10 tahun   \n",
       "2     199901  kurang dari 25 tahun     perempuan  kurang dari 10 tahun   \n",
       "3     478866  kurang dari 25 tahun     laki-laki  kurang dari 10 tahun   \n",
       "4     731664    antara 25-40 tahun     laki-laki    antara 10-20 tahun   \n",
       "\n",
       "    PENDIDIKAN        PENGHASILAN PEMILIK_KENDARAAN TAHUN_PRODUKSI  \\\n",
       "0          SMA  lebih dari 3x UMR                ya   setelah 2020   \n",
       "1    tidak ada    kurang dari UMR             tidak   sebelum 2020   \n",
       "2          SMA    antara 1-2x UMR                ya   sebelum 2020   \n",
       "3  universitas    antara 1-2x UMR                ya   sebelum 2020   \n",
       "4    tidak ada    antara 1-2x UMR                ya   sebelum 2020   \n",
       "\n",
       "          STATUS       ANAK  KODE_POS JENIS_KENDARAAN  TILANG_NGEBUT  \\\n",
       "0  belum menikah        ada     10238        keluarga              0   \n",
       "1  belum menikah  tidak ada     10238        keluarga              0   \n",
       "2  belum menikah  tidak ada     10238        keluarga              0   \n",
       "3  belum menikah        ada     32765        keluarga              0   \n",
       "4  belum menikah  tidak ada     32765        keluarga              2   \n",
       "\n",
       "   TILANG_MABUK  KECELAKAAN_SEBELUMNYA  KLAIM  \n",
       "0             0                      0  tidak  \n",
       "1             0                      0     ya  \n",
       "2             0                      0  tidak  \n",
       "3             0                      0  tidak  \n",
       "4             0                      1     ya  "
      ]
     },
     "execution_count": 12,
     "metadata": {},
     "output_type": "execute_result"
    }
   ],
   "source": [
    "data_drop.head()"
   ]
  },
  {
   "cell_type": "code",
   "execution_count": 13,
   "id": "53fd49a6",
   "metadata": {},
   "outputs": [
    {
     "data": {
      "text/plain": [
       "IDENTITAS                0\n",
       "UMUR                     0\n",
       "JENIS_KELAMIN            0\n",
       "PENGALAMAN_MENGEMUDI     0\n",
       "PENDIDIKAN               0\n",
       "PENGHASILAN              0\n",
       "PEMILIK_KENDARAAN        0\n",
       "TAHUN_PRODUKSI           0\n",
       "STATUS                   0\n",
       "ANAK                     0\n",
       "KODE_POS                 0\n",
       "JENIS_KENDARAAN          0\n",
       "TILANG_NGEBUT            0\n",
       "TILANG_MABUK             0\n",
       "KECELAKAAN_SEBELUMNYA    0\n",
       "KLAIM                    0\n",
       "dtype: int64"
      ]
     },
     "execution_count": 13,
     "metadata": {},
     "output_type": "execute_result"
    }
   ],
   "source": [
    "data_drop.isnull().sum()"
   ]
  },
  {
   "cell_type": "code",
   "execution_count": 14,
   "id": "c35c5c5c",
   "metadata": {},
   "outputs": [
    {
     "data": {
      "text/plain": [
       "array(['lebih dari 65 tahun', 'kurang dari 25 tahun',\n",
       "       'antara 25-40 tahun', 'antara 40-65 tahun'], dtype=object)"
      ]
     },
     "execution_count": 14,
     "metadata": {},
     "output_type": "execute_result"
    }
   ],
   "source": [
    "data_drop.UMUR.unique()"
   ]
  },
  {
   "cell_type": "code",
   "execution_count": 15,
   "id": "b9de95c4",
   "metadata": {},
   "outputs": [
    {
     "data": {
      "text/plain": [
       "IDENTITAS                  int64\n",
       "UMUR                      object\n",
       "JENIS_KELAMIN             object\n",
       "PENGALAMAN_MENGEMUDI      object\n",
       "PENDIDIKAN                object\n",
       "PENGHASILAN               object\n",
       "SKOR_KREDIT              float64\n",
       "PEMILIK_KENDARAAN         object\n",
       "TAHUN_PRODUKSI            object\n",
       "STATUS                    object\n",
       "ANAK                      object\n",
       "KODE_POS                   int64\n",
       "KM_PER_TAHUN             float64\n",
       "JENIS_KENDARAAN           object\n",
       "TILANG_NGEBUT              int64\n",
       "TILANG_MABUK               int64\n",
       "KECELAKAAN_SEBELUMNYA      int64\n",
       "KLAIM                     object\n",
       "dtype: object"
      ]
     },
     "execution_count": 15,
     "metadata": {},
     "output_type": "execute_result"
    }
   ],
   "source": [
    "data.dtypes"
   ]
  },
  {
   "cell_type": "code",
   "execution_count": 16,
   "id": "dca1141a",
   "metadata": {},
   "outputs": [
    {
     "data": {
      "text/plain": [
       "array(['lebih dari 65 tahun', 'kurang dari 25 tahun',\n",
       "       'antara 25-40 tahun', 'antara 40-65 tahun'], dtype=object)"
      ]
     },
     "execution_count": 16,
     "metadata": {},
     "output_type": "execute_result"
    }
   ],
   "source": [
    "data_drop.UMUR.unique()"
   ]
  },
  {
   "cell_type": "code",
   "execution_count": 48,
   "id": "38cad721",
   "metadata": {},
   "outputs": [],
   "source": [
    "data_drop['UMUR'] = \\\n",
    "data_drop['UMUR'].map({'kurang dari 25 tahun':0,'antara 25-40 tahun':1,'antara 40-65 tahun':2,'lebih dari 65 tahun':3})"
   ]
  },
  {
   "cell_type": "code",
   "execution_count": 18,
   "id": "ccbb78ac",
   "metadata": {},
   "outputs": [
    {
     "data": {
      "text/plain": [
       "array(['perempuan', 'laki-laki'], dtype=object)"
      ]
     },
     "execution_count": 18,
     "metadata": {},
     "output_type": "execute_result"
    }
   ],
   "source": [
    "data_drop.JENIS_KELAMIN.unique()"
   ]
  },
  {
   "cell_type": "code",
   "execution_count": 49,
   "id": "fe6fb667",
   "metadata": {},
   "outputs": [],
   "source": [
    "data_drop['JENIS_KELAMIN'] = \\\n",
    "data_drop['JENIS_KELAMIN'].map({'perempuan':0,'laki-laki':1})"
   ]
  },
  {
   "cell_type": "code",
   "execution_count": 20,
   "id": "48101693",
   "metadata": {},
   "outputs": [
    {
     "data": {
      "text/plain": [
       "array(['kurang dari 10 tahun', 'antara 10-20 tahun', 'antara 20-30 tahun',\n",
       "       'lebih dari 30 tahun'], dtype=object)"
      ]
     },
     "execution_count": 20,
     "metadata": {},
     "output_type": "execute_result"
    }
   ],
   "source": [
    "data_drop.PENGALAMAN_MENGEMUDI.unique()"
   ]
  },
  {
   "cell_type": "code",
   "execution_count": 50,
   "id": "e80b0504",
   "metadata": {},
   "outputs": [],
   "source": [
    "data_drop['PENGALAMAN_MENGEMUDI'] = \\\n",
    "data_drop['PENGALAMAN_MENGEMUDI'].map({'kurang dari 10 tahun':0,'antara 10-20 tahun':1,'antara 20-30 tahun':2,'lebih dari 30 tahun':3})"
   ]
  },
  {
   "cell_type": "code",
   "execution_count": 22,
   "id": "eaa83f89",
   "metadata": {},
   "outputs": [
    {
     "data": {
      "text/plain": [
       "array(['SMA', 'tidak ada', 'universitas'], dtype=object)"
      ]
     },
     "execution_count": 22,
     "metadata": {},
     "output_type": "execute_result"
    }
   ],
   "source": [
    "data_drop.PENDIDIKAN.unique()"
   ]
  },
  {
   "cell_type": "code",
   "execution_count": 51,
   "id": "77615088",
   "metadata": {},
   "outputs": [],
   "source": [
    "data_drop['PENDIDIKAN'] = \\\n",
    "data_drop['PENDIDIKAN'].map({'tidak ada':0,'SMA':1,'universitas':2})"
   ]
  },
  {
   "cell_type": "code",
   "execution_count": 24,
   "id": "d5131a2a",
   "metadata": {},
   "outputs": [
    {
     "data": {
      "text/plain": [
       "array(['lebih dari 3x UMR', 'kurang dari UMR', 'antara 1-2x UMR',\n",
       "       'antara 2-3x UMR'], dtype=object)"
      ]
     },
     "execution_count": 24,
     "metadata": {},
     "output_type": "execute_result"
    }
   ],
   "source": [
    "data_drop.PENGHASILAN.unique()"
   ]
  },
  {
   "cell_type": "code",
   "execution_count": 52,
   "id": "46db3677",
   "metadata": {},
   "outputs": [],
   "source": [
    "data_drop['PENGHASILAN'] = \\\n",
    "data_drop['PENGHASILAN'].map({'kurang dari UMR':0,'antara 1-2x UMR':1,'antara 2-3x UMR':2,'lebih dari 3x UMR':3})"
   ]
  },
  {
   "cell_type": "code",
   "execution_count": 26,
   "id": "12dadf45",
   "metadata": {},
   "outputs": [
    {
     "data": {
      "text/plain": [
       "array(['ya', 'tidak'], dtype=object)"
      ]
     },
     "execution_count": 26,
     "metadata": {},
     "output_type": "execute_result"
    }
   ],
   "source": [
    "data_drop.PEMILIK_KENDARAAN.unique()"
   ]
  },
  {
   "cell_type": "code",
   "execution_count": 53,
   "id": "fa38fac5",
   "metadata": {},
   "outputs": [],
   "source": [
    "data_drop['PEMILIK_KENDARAAN'] = \\\n",
    "data_drop['PEMILIK_KENDARAAN'].map({'tidak':0,'ya':1})"
   ]
  },
  {
   "cell_type": "code",
   "execution_count": 28,
   "id": "113827d6",
   "metadata": {},
   "outputs": [
    {
     "data": {
      "text/plain": [
       "array(['setelah 2020', 'sebelum 2020'], dtype=object)"
      ]
     },
     "execution_count": 28,
     "metadata": {},
     "output_type": "execute_result"
    }
   ],
   "source": [
    "data_drop.TAHUN_PRODUKSI.unique()"
   ]
  },
  {
   "cell_type": "code",
   "execution_count": 54,
   "id": "9540d78b",
   "metadata": {},
   "outputs": [],
   "source": [
    "data_drop['TAHUN_PRODUKSI'] = \\\n",
    "data_drop['TAHUN_PRODUKSI'].map({'sebelum 2020':0,'setelah 2020':1})"
   ]
  },
  {
   "cell_type": "code",
   "execution_count": 33,
   "id": "926dfb99",
   "metadata": {},
   "outputs": [
    {
     "data": {
      "text/plain": [
       "array(['belum menikah', 'menikah'], dtype=object)"
      ]
     },
     "execution_count": 33,
     "metadata": {},
     "output_type": "execute_result"
    }
   ],
   "source": [
    "data_drop.STATUS.unique()"
   ]
  },
  {
   "cell_type": "code",
   "execution_count": 55,
   "id": "d73f928c",
   "metadata": {},
   "outputs": [],
   "source": [
    "data_drop['STATUS'] = \\\n",
    "data_drop['STATUS'].map({'belum menikah':0,'menikah':1})"
   ]
  },
  {
   "cell_type": "code",
   "execution_count": 35,
   "id": "0121c7f5",
   "metadata": {},
   "outputs": [
    {
     "data": {
      "text/plain": [
       "array(['ada', 'tidak ada'], dtype=object)"
      ]
     },
     "execution_count": 35,
     "metadata": {},
     "output_type": "execute_result"
    }
   ],
   "source": [
    "data_drop.ANAK.unique()"
   ]
  },
  {
   "cell_type": "code",
   "execution_count": 56,
   "id": "204ea563",
   "metadata": {},
   "outputs": [],
   "source": [
    "data_drop['ANAK'] = \\\n",
    "data_drop['ANAK'].map({'tidak ada':0,'ada':1})"
   ]
  },
  {
   "cell_type": "code",
   "execution_count": 37,
   "id": "4875e7fa",
   "metadata": {},
   "outputs": [
    {
     "data": {
      "text/plain": [
       "array(['keluarga', 'sport'], dtype=object)"
      ]
     },
     "execution_count": 37,
     "metadata": {},
     "output_type": "execute_result"
    }
   ],
   "source": [
    "data_drop.JENIS_KENDARAAN.unique()"
   ]
  },
  {
   "cell_type": "code",
   "execution_count": 57,
   "id": "e4e2b0d4",
   "metadata": {},
   "outputs": [],
   "source": [
    "data_drop['JENIS_KENDARAAN'] = \\\n",
    "data_drop['JENIS_KENDARAAN'].map({'keluarga':0,'sport':1})"
   ]
  },
  {
   "cell_type": "code",
   "execution_count": 39,
   "id": "3268be0b",
   "metadata": {},
   "outputs": [
    {
     "data": {
      "text/plain": [
       "array(['tidak', 'ya'], dtype=object)"
      ]
     },
     "execution_count": 39,
     "metadata": {},
     "output_type": "execute_result"
    }
   ],
   "source": [
    "data_drop.KLAIM.unique()"
   ]
  },
  {
   "cell_type": "code",
   "execution_count": 58,
   "id": "66bc713c",
   "metadata": {},
   "outputs": [],
   "source": [
    "data_drop['KLAIM'] = \\\n",
    "data_drop['KLAIM'].map({'tidak':0,'ya':1})"
   ]
  },
  {
   "cell_type": "code",
   "execution_count": 59,
   "id": "fc0ffeb9",
   "metadata": {},
   "outputs": [
    {
     "data": {
      "text/html": [
       "<div>\n",
       "<style scoped>\n",
       "    .dataframe tbody tr th:only-of-type {\n",
       "        vertical-align: middle;\n",
       "    }\n",
       "\n",
       "    .dataframe tbody tr th {\n",
       "        vertical-align: top;\n",
       "    }\n",
       "\n",
       "    .dataframe thead th {\n",
       "        text-align: right;\n",
       "    }\n",
       "</style>\n",
       "<table border=\"1\" class=\"dataframe\">\n",
       "  <thead>\n",
       "    <tr style=\"text-align: right;\">\n",
       "      <th></th>\n",
       "      <th>IDENTITAS</th>\n",
       "      <th>UMUR</th>\n",
       "      <th>JENIS_KELAMIN</th>\n",
       "      <th>PENGALAMAN_MENGEMUDI</th>\n",
       "      <th>PENDIDIKAN</th>\n",
       "      <th>PENGHASILAN</th>\n",
       "      <th>PEMILIK_KENDARAAN</th>\n",
       "      <th>TAHUN_PRODUKSI</th>\n",
       "      <th>STATUS</th>\n",
       "      <th>ANAK</th>\n",
       "      <th>KODE_POS</th>\n",
       "      <th>JENIS_KENDARAAN</th>\n",
       "      <th>TILANG_NGEBUT</th>\n",
       "      <th>TILANG_MABUK</th>\n",
       "      <th>KECELAKAAN_SEBELUMNYA</th>\n",
       "      <th>KLAIM</th>\n",
       "    </tr>\n",
       "  </thead>\n",
       "  <tbody>\n",
       "    <tr>\n",
       "      <th>0</th>\n",
       "      <td>569520</td>\n",
       "      <td>3</td>\n",
       "      <td>0</td>\n",
       "      <td>0</td>\n",
       "      <td>1</td>\n",
       "      <td>3</td>\n",
       "      <td>1</td>\n",
       "      <td>1</td>\n",
       "      <td>0</td>\n",
       "      <td>1</td>\n",
       "      <td>10238</td>\n",
       "      <td>0</td>\n",
       "      <td>0</td>\n",
       "      <td>0</td>\n",
       "      <td>0</td>\n",
       "      <td>0</td>\n",
       "    </tr>\n",
       "    <tr>\n",
       "      <th>1</th>\n",
       "      <td>750365</td>\n",
       "      <td>0</td>\n",
       "      <td>1</td>\n",
       "      <td>0</td>\n",
       "      <td>0</td>\n",
       "      <td>0</td>\n",
       "      <td>0</td>\n",
       "      <td>0</td>\n",
       "      <td>0</td>\n",
       "      <td>0</td>\n",
       "      <td>10238</td>\n",
       "      <td>0</td>\n",
       "      <td>0</td>\n",
       "      <td>0</td>\n",
       "      <td>0</td>\n",
       "      <td>1</td>\n",
       "    </tr>\n",
       "    <tr>\n",
       "      <th>2</th>\n",
       "      <td>199901</td>\n",
       "      <td>0</td>\n",
       "      <td>0</td>\n",
       "      <td>0</td>\n",
       "      <td>1</td>\n",
       "      <td>1</td>\n",
       "      <td>1</td>\n",
       "      <td>0</td>\n",
       "      <td>0</td>\n",
       "      <td>0</td>\n",
       "      <td>10238</td>\n",
       "      <td>0</td>\n",
       "      <td>0</td>\n",
       "      <td>0</td>\n",
       "      <td>0</td>\n",
       "      <td>0</td>\n",
       "    </tr>\n",
       "    <tr>\n",
       "      <th>3</th>\n",
       "      <td>478866</td>\n",
       "      <td>0</td>\n",
       "      <td>1</td>\n",
       "      <td>0</td>\n",
       "      <td>2</td>\n",
       "      <td>1</td>\n",
       "      <td>1</td>\n",
       "      <td>0</td>\n",
       "      <td>0</td>\n",
       "      <td>1</td>\n",
       "      <td>32765</td>\n",
       "      <td>0</td>\n",
       "      <td>0</td>\n",
       "      <td>0</td>\n",
       "      <td>0</td>\n",
       "      <td>0</td>\n",
       "    </tr>\n",
       "    <tr>\n",
       "      <th>4</th>\n",
       "      <td>731664</td>\n",
       "      <td>1</td>\n",
       "      <td>1</td>\n",
       "      <td>1</td>\n",
       "      <td>0</td>\n",
       "      <td>1</td>\n",
       "      <td>1</td>\n",
       "      <td>0</td>\n",
       "      <td>0</td>\n",
       "      <td>0</td>\n",
       "      <td>32765</td>\n",
       "      <td>0</td>\n",
       "      <td>2</td>\n",
       "      <td>0</td>\n",
       "      <td>1</td>\n",
       "      <td>1</td>\n",
       "    </tr>\n",
       "  </tbody>\n",
       "</table>\n",
       "</div>"
      ],
      "text/plain": [
       "   IDENTITAS  UMUR  JENIS_KELAMIN  PENGALAMAN_MENGEMUDI  PENDIDIKAN  \\\n",
       "0     569520     3              0                     0           1   \n",
       "1     750365     0              1                     0           0   \n",
       "2     199901     0              0                     0           1   \n",
       "3     478866     0              1                     0           2   \n",
       "4     731664     1              1                     1           0   \n",
       "\n",
       "   PENGHASILAN  PEMILIK_KENDARAAN  TAHUN_PRODUKSI  STATUS  ANAK  KODE_POS  \\\n",
       "0            3                  1               1       0     1     10238   \n",
       "1            0                  0               0       0     0     10238   \n",
       "2            1                  1               0       0     0     10238   \n",
       "3            1                  1               0       0     1     32765   \n",
       "4            1                  1               0       0     0     32765   \n",
       "\n",
       "   JENIS_KENDARAAN  TILANG_NGEBUT  TILANG_MABUK  KECELAKAAN_SEBELUMNYA  KLAIM  \n",
       "0                0              0             0                      0      0  \n",
       "1                0              0             0                      0      1  \n",
       "2                0              0             0                      0      0  \n",
       "3                0              0             0                      0      0  \n",
       "4                0              2             0                      1      1  "
      ]
     },
     "execution_count": 59,
     "metadata": {},
     "output_type": "execute_result"
    }
   ],
   "source": [
    "data_drop.head()"
   ]
  },
  {
   "cell_type": "code",
   "execution_count": 61,
   "id": "9bd962fc",
   "metadata": {},
   "outputs": [
    {
     "data": {
      "text/html": [
       "<div>\n",
       "<style scoped>\n",
       "    .dataframe tbody tr th:only-of-type {\n",
       "        vertical-align: middle;\n",
       "    }\n",
       "\n",
       "    .dataframe tbody tr th {\n",
       "        vertical-align: top;\n",
       "    }\n",
       "\n",
       "    .dataframe thead th {\n",
       "        text-align: right;\n",
       "    }\n",
       "</style>\n",
       "<table border=\"1\" class=\"dataframe\">\n",
       "  <thead>\n",
       "    <tr style=\"text-align: right;\">\n",
       "      <th></th>\n",
       "      <th>IDENTITAS</th>\n",
       "      <th>UMUR</th>\n",
       "      <th>JENIS_KELAMIN</th>\n",
       "      <th>PENGALAMAN_MENGEMUDI</th>\n",
       "      <th>PENDIDIKAN</th>\n",
       "      <th>PENGHASILAN</th>\n",
       "      <th>PEMILIK_KENDARAAN</th>\n",
       "      <th>TAHUN_PRODUKSI</th>\n",
       "      <th>STATUS</th>\n",
       "      <th>ANAK</th>\n",
       "      <th>KODE_POS</th>\n",
       "      <th>JENIS_KENDARAAN</th>\n",
       "      <th>TILANG_NGEBUT</th>\n",
       "      <th>TILANG_MABUK</th>\n",
       "      <th>KECELAKAAN_SEBELUMNYA</th>\n",
       "      <th>KLAIM</th>\n",
       "    </tr>\n",
       "  </thead>\n",
       "  <tbody>\n",
       "    <tr>\n",
       "      <th>0</th>\n",
       "      <td>0.569490</td>\n",
       "      <td>1.000000</td>\n",
       "      <td>0.0</td>\n",
       "      <td>0.000000</td>\n",
       "      <td>0.5</td>\n",
       "      <td>1.000000</td>\n",
       "      <td>1.0</td>\n",
       "      <td>1.0</td>\n",
       "      <td>0.0</td>\n",
       "      <td>1.0</td>\n",
       "      <td>0.000000</td>\n",
       "      <td>0.0</td>\n",
       "      <td>0.000000</td>\n",
       "      <td>0.0</td>\n",
       "      <td>0.000000</td>\n",
       "      <td>0.0</td>\n",
       "    </tr>\n",
       "    <tr>\n",
       "      <th>1</th>\n",
       "      <td>0.750358</td>\n",
       "      <td>0.000000</td>\n",
       "      <td>1.0</td>\n",
       "      <td>0.000000</td>\n",
       "      <td>0.0</td>\n",
       "      <td>0.000000</td>\n",
       "      <td>0.0</td>\n",
       "      <td>0.0</td>\n",
       "      <td>0.0</td>\n",
       "      <td>0.0</td>\n",
       "      <td>0.000000</td>\n",
       "      <td>0.0</td>\n",
       "      <td>0.000000</td>\n",
       "      <td>0.0</td>\n",
       "      <td>0.000000</td>\n",
       "      <td>1.0</td>\n",
       "    </tr>\n",
       "    <tr>\n",
       "      <th>2</th>\n",
       "      <td>0.199825</td>\n",
       "      <td>0.000000</td>\n",
       "      <td>0.0</td>\n",
       "      <td>0.000000</td>\n",
       "      <td>0.5</td>\n",
       "      <td>0.333333</td>\n",
       "      <td>1.0</td>\n",
       "      <td>0.0</td>\n",
       "      <td>0.0</td>\n",
       "      <td>0.0</td>\n",
       "      <td>0.000000</td>\n",
       "      <td>0.0</td>\n",
       "      <td>0.000000</td>\n",
       "      <td>0.0</td>\n",
       "      <td>0.000000</td>\n",
       "      <td>0.0</td>\n",
       "    </tr>\n",
       "    <tr>\n",
       "      <th>3</th>\n",
       "      <td>0.478825</td>\n",
       "      <td>0.000000</td>\n",
       "      <td>1.0</td>\n",
       "      <td>0.000000</td>\n",
       "      <td>1.0</td>\n",
       "      <td>0.333333</td>\n",
       "      <td>1.0</td>\n",
       "      <td>0.0</td>\n",
       "      <td>0.0</td>\n",
       "      <td>1.0</td>\n",
       "      <td>0.275179</td>\n",
       "      <td>0.0</td>\n",
       "      <td>0.000000</td>\n",
       "      <td>0.0</td>\n",
       "      <td>0.000000</td>\n",
       "      <td>0.0</td>\n",
       "    </tr>\n",
       "    <tr>\n",
       "      <th>4</th>\n",
       "      <td>0.731654</td>\n",
       "      <td>0.333333</td>\n",
       "      <td>1.0</td>\n",
       "      <td>0.333333</td>\n",
       "      <td>0.0</td>\n",
       "      <td>0.333333</td>\n",
       "      <td>1.0</td>\n",
       "      <td>0.0</td>\n",
       "      <td>0.0</td>\n",
       "      <td>0.0</td>\n",
       "      <td>0.275179</td>\n",
       "      <td>0.0</td>\n",
       "      <td>0.090909</td>\n",
       "      <td>0.0</td>\n",
       "      <td>0.066667</td>\n",
       "      <td>1.0</td>\n",
       "    </tr>\n",
       "    <tr>\n",
       "      <th>5</th>\n",
       "      <td>0.877566</td>\n",
       "      <td>0.666667</td>\n",
       "      <td>0.0</td>\n",
       "      <td>0.666667</td>\n",
       "      <td>0.5</td>\n",
       "      <td>1.000000</td>\n",
       "      <td>1.0</td>\n",
       "      <td>1.0</td>\n",
       "      <td>0.0</td>\n",
       "      <td>1.0</td>\n",
       "      <td>0.000000</td>\n",
       "      <td>0.0</td>\n",
       "      <td>0.136364</td>\n",
       "      <td>0.0</td>\n",
       "      <td>0.200000</td>\n",
       "      <td>0.0</td>\n",
       "    </tr>\n",
       "    <tr>\n",
       "      <th>6</th>\n",
       "      <td>0.930149</td>\n",
       "      <td>1.000000</td>\n",
       "      <td>1.0</td>\n",
       "      <td>1.000000</td>\n",
       "      <td>0.5</td>\n",
       "      <td>1.000000</td>\n",
       "      <td>0.0</td>\n",
       "      <td>1.0</td>\n",
       "      <td>1.0</td>\n",
       "      <td>1.0</td>\n",
       "      <td>0.000000</td>\n",
       "      <td>0.0</td>\n",
       "      <td>0.318182</td>\n",
       "      <td>0.0</td>\n",
       "      <td>0.200000</td>\n",
       "      <td>0.0</td>\n",
       "    </tr>\n",
       "    <tr>\n",
       "      <th>7</th>\n",
       "      <td>0.460963</td>\n",
       "      <td>0.333333</td>\n",
       "      <td>0.0</td>\n",
       "      <td>0.000000</td>\n",
       "      <td>1.0</td>\n",
       "      <td>0.333333</td>\n",
       "      <td>0.0</td>\n",
       "      <td>1.0</td>\n",
       "      <td>0.0</td>\n",
       "      <td>1.0</td>\n",
       "      <td>0.000000</td>\n",
       "      <td>0.0</td>\n",
       "      <td>0.000000</td>\n",
       "      <td>0.0</td>\n",
       "      <td>0.000000</td>\n",
       "      <td>1.0</td>\n",
       "    </tr>\n",
       "    <tr>\n",
       "      <th>8</th>\n",
       "      <td>0.068274</td>\n",
       "      <td>0.666667</td>\n",
       "      <td>0.0</td>\n",
       "      <td>0.666667</td>\n",
       "      <td>1.0</td>\n",
       "      <td>0.333333</td>\n",
       "      <td>0.0</td>\n",
       "      <td>0.0</td>\n",
       "      <td>1.0</td>\n",
       "      <td>0.0</td>\n",
       "      <td>0.000000</td>\n",
       "      <td>0.0</td>\n",
       "      <td>0.000000</td>\n",
       "      <td>0.0</td>\n",
       "      <td>0.000000</td>\n",
       "      <td>0.0</td>\n",
       "    </tr>\n",
       "    <tr>\n",
       "      <th>9</th>\n",
       "      <td>0.445866</td>\n",
       "      <td>0.666667</td>\n",
       "      <td>0.0</td>\n",
       "      <td>0.000000</td>\n",
       "      <td>0.5</td>\n",
       "      <td>1.000000</td>\n",
       "      <td>1.0</td>\n",
       "      <td>0.0</td>\n",
       "      <td>0.0</td>\n",
       "      <td>1.0</td>\n",
       "      <td>0.275179</td>\n",
       "      <td>0.0</td>\n",
       "      <td>0.000000</td>\n",
       "      <td>0.0</td>\n",
       "      <td>0.000000</td>\n",
       "      <td>1.0</td>\n",
       "    </tr>\n",
       "  </tbody>\n",
       "</table>\n",
       "</div>"
      ],
      "text/plain": [
       "   IDENTITAS      UMUR  JENIS_KELAMIN  PENGALAMAN_MENGEMUDI  PENDIDIKAN  \\\n",
       "0   0.569490  1.000000            0.0              0.000000         0.5   \n",
       "1   0.750358  0.000000            1.0              0.000000         0.0   \n",
       "2   0.199825  0.000000            0.0              0.000000         0.5   \n",
       "3   0.478825  0.000000            1.0              0.000000         1.0   \n",
       "4   0.731654  0.333333            1.0              0.333333         0.0   \n",
       "5   0.877566  0.666667            0.0              0.666667         0.5   \n",
       "6   0.930149  1.000000            1.0              1.000000         0.5   \n",
       "7   0.460963  0.333333            0.0              0.000000         1.0   \n",
       "8   0.068274  0.666667            0.0              0.666667         1.0   \n",
       "9   0.445866  0.666667            0.0              0.000000         0.5   \n",
       "\n",
       "   PENGHASILAN  PEMILIK_KENDARAAN  TAHUN_PRODUKSI  STATUS  ANAK  KODE_POS  \\\n",
       "0     1.000000                1.0             1.0     0.0   1.0  0.000000   \n",
       "1     0.000000                0.0             0.0     0.0   0.0  0.000000   \n",
       "2     0.333333                1.0             0.0     0.0   0.0  0.000000   \n",
       "3     0.333333                1.0             0.0     0.0   1.0  0.275179   \n",
       "4     0.333333                1.0             0.0     0.0   0.0  0.275179   \n",
       "5     1.000000                1.0             1.0     0.0   1.0  0.000000   \n",
       "6     1.000000                0.0             1.0     1.0   1.0  0.000000   \n",
       "7     0.333333                0.0             1.0     0.0   1.0  0.000000   \n",
       "8     0.333333                0.0             0.0     1.0   0.0  0.000000   \n",
       "9     1.000000                1.0             0.0     0.0   1.0  0.275179   \n",
       "\n",
       "   JENIS_KENDARAAN  TILANG_NGEBUT  TILANG_MABUK  KECELAKAAN_SEBELUMNYA  KLAIM  \n",
       "0              0.0       0.000000           0.0               0.000000    0.0  \n",
       "1              0.0       0.000000           0.0               0.000000    1.0  \n",
       "2              0.0       0.000000           0.0               0.000000    0.0  \n",
       "3              0.0       0.000000           0.0               0.000000    0.0  \n",
       "4              0.0       0.090909           0.0               0.066667    1.0  \n",
       "5              0.0       0.136364           0.0               0.200000    0.0  \n",
       "6              0.0       0.318182           0.0               0.200000    0.0  \n",
       "7              0.0       0.000000           0.0               0.000000    1.0  \n",
       "8              0.0       0.000000           0.0               0.000000    0.0  \n",
       "9              0.0       0.000000           0.0               0.000000    1.0  "
      ]
     },
     "execution_count": 61,
     "metadata": {},
     "output_type": "execute_result"
    }
   ],
   "source": [
    "from sklearn import preprocessing\n",
    "\n",
    "scaler = preprocessing.MinMaxScaler()\n",
    "d = scaler.fit_transform(data_drop)\n",
    "data_normalisasi = pd.DataFrame(d, columns=data_drop.columns)\n",
    "data_normalisasi.head(10)"
   ]
  },
  {
   "cell_type": "code",
   "execution_count": null,
   "id": "52133a14",
   "metadata": {},
   "outputs": [],
   "source": []
  }
 ],
 "metadata": {
  "kernelspec": {
   "display_name": "Python 3 (ipykernel)",
   "language": "python",
   "name": "python3"
  },
  "language_info": {
   "codemirror_mode": {
    "name": "ipython",
    "version": 3
   },
   "file_extension": ".py",
   "mimetype": "text/x-python",
   "name": "python",
   "nbconvert_exporter": "python",
   "pygments_lexer": "ipython3",
   "version": "3.10.9"
  }
 },
 "nbformat": 4,
 "nbformat_minor": 5
}
